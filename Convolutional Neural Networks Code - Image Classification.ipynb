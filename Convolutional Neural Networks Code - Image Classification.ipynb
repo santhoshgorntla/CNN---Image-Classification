{
 "cells": [
  {
   "cell_type": "code",
   "execution_count": 1,
   "id": "f1907e30",
   "metadata": {},
   "outputs": [],
   "source": [
    "import tensorflow as tf\n",
    "import keras"
   ]
  },
  {
   "cell_type": "code",
   "execution_count": 2,
   "id": "4974baa5",
   "metadata": {},
   "outputs": [
    {
     "name": "stdout",
     "output_type": "stream",
     "text": [
      "2.17.0\n"
     ]
    }
   ],
   "source": [
    "import tensorflow as tf\n",
    "print(tf.__version__)\n"
   ]
  },
  {
   "cell_type": "code",
   "execution_count": 3,
   "id": "aea33dbf",
   "metadata": {},
   "outputs": [],
   "source": [
    "from tensorflow.keras.preprocessing.image import ImageDataGenerator"
   ]
  },
  {
   "cell_type": "code",
   "execution_count": 4,
   "id": "060c72df",
   "metadata": {},
   "outputs": [],
   "source": [
    "train_datagen = ImageDataGenerator(rescale = 1/255,\n",
    "                shear_range = 0.2,\n",
    "                zoom_range = 0.2)"
   ]
  },
  {
   "cell_type": "code",
   "execution_count": 5,
   "id": "0d439dfe",
   "metadata": {},
   "outputs": [
    {
     "name": "stdout",
     "output_type": "stream",
     "text": [
      "Found 8048 images belonging to 2 classes.\n"
     ]
    }
   ],
   "source": [
    "training_set = train_datagen.flow_from_directory('dataset/training_set',\n",
    "                                                 target_size = (64, 64),\n",
    "                                                 class_mode = 'binary')"
   ]
  },
  {
   "cell_type": "code",
   "execution_count": 6,
   "id": "1240a98a",
   "metadata": {},
   "outputs": [
    {
     "data": {
      "text/plain": [
       "{'cats': 0, 'dogs': 1}"
      ]
     },
     "execution_count": 6,
     "metadata": {},
     "output_type": "execute_result"
    }
   ],
   "source": [
    "training_set.class_indices"
   ]
  },
  {
   "cell_type": "code",
   "execution_count": 7,
   "id": "5422862d",
   "metadata": {},
   "outputs": [
    {
     "name": "stdout",
     "output_type": "stream",
     "text": [
      "Found 2000 images belonging to 2 classes.\n"
     ]
    }
   ],
   "source": [
    "test_datagen = ImageDataGenerator(rescale = 1/255)\n",
    "                                   \n",
    "test_set = test_datagen.flow_from_directory('dataset/test_set',\n",
    "                                            target_size = (64, 64),\n",
    "                                            class_mode = 'binary')                                 "
   ]
  },
  {
   "cell_type": "code",
   "execution_count": null,
   "id": "caf5c1f1",
   "metadata": {},
   "outputs": [],
   "source": [
    "**Modelling - Convolutional Neural Networks"
   ]
  },
  {
   "cell_type": "code",
   "execution_count": 8,
   "id": "5c9e74f6",
   "metadata": {},
   "outputs": [],
   "source": [
    "from keras.models import Sequential\n",
    "classifier = Sequential()"
   ]
  },
  {
   "cell_type": "code",
   "execution_count": null,
   "id": "2cbfc007",
   "metadata": {},
   "outputs": [],
   "source": [
    "Step-1 Convolution"
   ]
  },
  {
   "cell_type": "code",
   "execution_count": 9,
   "id": "22b71354",
   "metadata": {},
   "outputs": [
    {
     "name": "stderr",
     "output_type": "stream",
     "text": [
      "C:\\Users\\ADMIN\\anaconda3\\Lib\\site-packages\\keras\\src\\layers\\convolutional\\base_conv.py:107: UserWarning: Do not pass an `input_shape`/`input_dim` argument to a layer. When using Sequential models, prefer using an `Input(shape)` object as the first layer in the model instead.\n",
      "  super().__init__(activity_regularizer=activity_regularizer, **kwargs)\n"
     ]
    }
   ],
   "source": [
    "from keras. layers import Conv2D\n",
    "classifier.add(Conv2D(input_shape=[64, 64, 3],\n",
    "                      filters=32, kernel_size=3,activation='relu'))"
   ]
  },
  {
   "cell_type": "code",
   "execution_count": null,
   "id": "7a373ad2",
   "metadata": {},
   "outputs": [],
   "source": [
    "Step-2 MaxPooling"
   ]
  },
  {
   "cell_type": "code",
   "execution_count": 10,
   "id": "c9c6bbff",
   "metadata": {},
   "outputs": [],
   "source": [
    "from keras.layers import MaxPooling2D\n",
    "classifier.add(MaxPooling2D(pool_size=2, strides=2))"
   ]
  },
  {
   "cell_type": "code",
   "execution_count": null,
   "id": "5c6352d6",
   "metadata": {},
   "outputs": [],
   "source": [
    "Step-3 Flattening"
   ]
  },
  {
   "cell_type": "code",
   "execution_count": 11,
   "id": "fbc6e795",
   "metadata": {},
   "outputs": [],
   "source": [
    "from keras.layers import Flatten \n",
    "classifier.add (Flatten())"
   ]
  },
  {
   "cell_type": "code",
   "execution_count": null,
   "id": "48f0f319",
   "metadata": {},
   "outputs": [],
   "source": [
    "Step 4 - Full Connection"
   ]
  },
  {
   "cell_type": "code",
   "execution_count": 12,
   "id": "31db440e",
   "metadata": {},
   "outputs": [],
   "source": [
    "from keras. layers import Dense\n",
    "\n",
    "#hidden Layer with 128 neurons\n",
    "\n",
    "classifier.add (Dense(units = 128, activation = 'relu'))\n",
    "\n",
    "# Output Layer with 1 neuron\n",
    "\n",
    "classifier.add (Dense(units = 1, activation = 'sigmoid'))"
   ]
  },
  {
   "cell_type": "code",
   "execution_count": null,
   "id": "e0418eba",
   "metadata": {},
   "outputs": [],
   "source": [
    "**Training the CNN Model with train data & Testing the model with test data"
   ]
  },
  {
   "cell_type": "code",
   "execution_count": 13,
   "id": "161dad82",
   "metadata": {},
   "outputs": [],
   "source": [
    "classifier.compile(optimizer = 'adam',\n",
    "                    loss     = 'binary_crossentropy',\n",
    "                    metrics  = ['accuracy' ])"
   ]
  },
  {
   "cell_type": "code",
   "execution_count": 14,
   "id": "01f9a3c3",
   "metadata": {},
   "outputs": [
    {
     "name": "stdout",
     "output_type": "stream",
     "text": [
      "Epoch 1/25\n"
     ]
    },
    {
     "name": "stderr",
     "output_type": "stream",
     "text": [
      "C:\\Users\\ADMIN\\anaconda3\\Lib\\site-packages\\keras\\src\\trainers\\data_adapters\\py_dataset_adapter.py:122: UserWarning: Your `PyDataset` class should call `super().__init__(**kwargs)` in its constructor. `**kwargs` can include `workers`, `use_multiprocessing`, `max_queue_size`. Do not pass these arguments to `fit()`, as they will be ignored.\n",
      "  self._warn_if_super_not_called()\n"
     ]
    },
    {
     "name": "stdout",
     "output_type": "stream",
     "text": [
      "\u001b[1m252/252\u001b[0m \u001b[32m━━━━━━━━━━━━━━━━━━━━\u001b[0m\u001b[37m\u001b[0m \u001b[1m260s\u001b[0m 1s/step - accuracy: 0.5764 - loss: 0.7420 - val_accuracy: 0.6965 - val_loss: 0.5945\n",
      "Epoch 2/25\n",
      "\u001b[1m252/252\u001b[0m \u001b[32m━━━━━━━━━━━━━━━━━━━━\u001b[0m\u001b[37m\u001b[0m \u001b[1m81s\u001b[0m 317ms/step - accuracy: 0.6869 - loss: 0.5865 - val_accuracy: 0.7175 - val_loss: 0.5689\n",
      "Epoch 3/25\n",
      "\u001b[1m252/252\u001b[0m \u001b[32m━━━━━━━━━━━━━━━━━━━━\u001b[0m\u001b[37m\u001b[0m \u001b[1m94s\u001b[0m 360ms/step - accuracy: 0.7250 - loss: 0.5444 - val_accuracy: 0.7090 - val_loss: 0.5715\n",
      "Epoch 4/25\n",
      "\u001b[1m252/252\u001b[0m \u001b[32m━━━━━━━━━━━━━━━━━━━━\u001b[0m\u001b[37m\u001b[0m \u001b[1m101s\u001b[0m 391ms/step - accuracy: 0.7388 - loss: 0.5166 - val_accuracy: 0.7400 - val_loss: 0.5365\n",
      "Epoch 5/25\n",
      "\u001b[1m252/252\u001b[0m \u001b[32m━━━━━━━━━━━━━━━━━━━━\u001b[0m\u001b[37m\u001b[0m \u001b[1m99s\u001b[0m 380ms/step - accuracy: 0.7571 - loss: 0.4961 - val_accuracy: 0.7455 - val_loss: 0.5396\n",
      "Epoch 6/25\n",
      "\u001b[1m252/252\u001b[0m \u001b[32m━━━━━━━━━━━━━━━━━━━━\u001b[0m\u001b[37m\u001b[0m \u001b[1m105s\u001b[0m 403ms/step - accuracy: 0.7697 - loss: 0.4716 - val_accuracy: 0.7270 - val_loss: 0.5337\n",
      "Epoch 7/25\n",
      "\u001b[1m252/252\u001b[0m \u001b[32m━━━━━━━━━━━━━━━━━━━━\u001b[0m\u001b[37m\u001b[0m \u001b[1m66s\u001b[0m 257ms/step - accuracy: 0.7761 - loss: 0.4575 - val_accuracy: 0.7595 - val_loss: 0.5146\n",
      "Epoch 8/25\n",
      "\u001b[1m252/252\u001b[0m \u001b[32m━━━━━━━━━━━━━━━━━━━━\u001b[0m\u001b[37m\u001b[0m \u001b[1m82s\u001b[0m 320ms/step - accuracy: 0.8047 - loss: 0.4181 - val_accuracy: 0.7505 - val_loss: 0.5351\n",
      "Epoch 9/25\n",
      "\u001b[1m252/252\u001b[0m \u001b[32m━━━━━━━━━━━━━━━━━━━━\u001b[0m\u001b[37m\u001b[0m \u001b[1m96s\u001b[0m 370ms/step - accuracy: 0.8151 - loss: 0.4091 - val_accuracy: 0.7535 - val_loss: 0.6027\n",
      "Epoch 10/25\n",
      "\u001b[1m252/252\u001b[0m \u001b[32m━━━━━━━━━━━━━━━━━━━━\u001b[0m\u001b[37m\u001b[0m \u001b[1m105s\u001b[0m 401ms/step - accuracy: 0.8244 - loss: 0.3838 - val_accuracy: 0.7790 - val_loss: 0.5355\n",
      "Epoch 11/25\n",
      "\u001b[1m252/252\u001b[0m \u001b[32m━━━━━━━━━━━━━━━━━━━━\u001b[0m\u001b[37m\u001b[0m \u001b[1m102s\u001b[0m 395ms/step - accuracy: 0.8275 - loss: 0.3733 - val_accuracy: 0.7770 - val_loss: 0.5573\n",
      "Epoch 12/25\n",
      "\u001b[1m252/252\u001b[0m \u001b[32m━━━━━━━━━━━━━━━━━━━━\u001b[0m\u001b[37m\u001b[0m \u001b[1m96s\u001b[0m 369ms/step - accuracy: 0.8532 - loss: 0.3318 - val_accuracy: 0.7720 - val_loss: 0.5371\n",
      "Epoch 13/25\n",
      "\u001b[1m252/252\u001b[0m \u001b[32m━━━━━━━━━━━━━━━━━━━━\u001b[0m\u001b[37m\u001b[0m \u001b[1m97s\u001b[0m 377ms/step - accuracy: 0.8697 - loss: 0.3103 - val_accuracy: 0.7595 - val_loss: 0.5825\n",
      "Epoch 14/25\n",
      "\u001b[1m252/252\u001b[0m \u001b[32m━━━━━━━━━━━━━━━━━━━━\u001b[0m\u001b[37m\u001b[0m \u001b[1m95s\u001b[0m 367ms/step - accuracy: 0.8815 - loss: 0.2883 - val_accuracy: 0.7830 - val_loss: 0.5864\n",
      "Epoch 15/25\n",
      "\u001b[1m252/252\u001b[0m \u001b[32m━━━━━━━━━━━━━━━━━━━━\u001b[0m\u001b[37m\u001b[0m \u001b[1m107s\u001b[0m 413ms/step - accuracy: 0.8734 - loss: 0.2909 - val_accuracy: 0.7470 - val_loss: 0.7281\n",
      "Epoch 16/25\n",
      "\u001b[1m252/252\u001b[0m \u001b[32m━━━━━━━━━━━━━━━━━━━━\u001b[0m\u001b[37m\u001b[0m \u001b[1m109s\u001b[0m 421ms/step - accuracy: 0.8993 - loss: 0.2571 - val_accuracy: 0.7810 - val_loss: 0.6266\n",
      "Epoch 17/25\n",
      "\u001b[1m252/252\u001b[0m \u001b[32m━━━━━━━━━━━━━━━━━━━━\u001b[0m\u001b[37m\u001b[0m \u001b[1m103s\u001b[0m 400ms/step - accuracy: 0.9035 - loss: 0.2303 - val_accuracy: 0.7790 - val_loss: 0.6725\n",
      "Epoch 18/25\n",
      "\u001b[1m252/252\u001b[0m \u001b[32m━━━━━━━━━━━━━━━━━━━━\u001b[0m\u001b[37m\u001b[0m \u001b[1m97s\u001b[0m 373ms/step - accuracy: 0.9170 - loss: 0.2108 - val_accuracy: 0.7860 - val_loss: 0.7037\n",
      "Epoch 19/25\n",
      "\u001b[1m252/252\u001b[0m \u001b[32m━━━━━━━━━━━━━━━━━━━━\u001b[0m\u001b[37m\u001b[0m \u001b[1m95s\u001b[0m 372ms/step - accuracy: 0.9197 - loss: 0.2030 - val_accuracy: 0.7760 - val_loss: 0.7356\n",
      "Epoch 20/25\n",
      "\u001b[1m252/252\u001b[0m \u001b[32m━━━━━━━━━━━━━━━━━━━━\u001b[0m\u001b[37m\u001b[0m \u001b[1m100s\u001b[0m 389ms/step - accuracy: 0.9230 - loss: 0.1964 - val_accuracy: 0.7545 - val_loss: 0.8624\n",
      "Epoch 21/25\n",
      "\u001b[1m252/252\u001b[0m \u001b[32m━━━━━━━━━━━━━━━━━━━━\u001b[0m\u001b[37m\u001b[0m \u001b[1m107s\u001b[0m 420ms/step - accuracy: 0.9325 - loss: 0.1696 - val_accuracy: 0.7685 - val_loss: 0.8367\n",
      "Epoch 22/25\n",
      "\u001b[1m252/252\u001b[0m \u001b[32m━━━━━━━━━━━━━━━━━━━━\u001b[0m\u001b[37m\u001b[0m \u001b[1m103s\u001b[0m 398ms/step - accuracy: 0.9422 - loss: 0.1587 - val_accuracy: 0.7490 - val_loss: 0.9280\n",
      "Epoch 23/25\n",
      "\u001b[1m252/252\u001b[0m \u001b[32m━━━━━━━━━━━━━━━━━━━━\u001b[0m\u001b[37m\u001b[0m \u001b[1m100s\u001b[0m 386ms/step - accuracy: 0.9422 - loss: 0.1599 - val_accuracy: 0.7685 - val_loss: 0.8110\n",
      "Epoch 24/25\n",
      "\u001b[1m252/252\u001b[0m \u001b[32m━━━━━━━━━━━━━━━━━━━━\u001b[0m\u001b[37m\u001b[0m \u001b[1m108s\u001b[0m 420ms/step - accuracy: 0.9486 - loss: 0.1380 - val_accuracy: 0.7770 - val_loss: 0.8763\n",
      "Epoch 25/25\n",
      "\u001b[1m252/252\u001b[0m \u001b[32m━━━━━━━━━━━━━━━━━━━━\u001b[0m\u001b[37m\u001b[0m \u001b[1m101s\u001b[0m 392ms/step - accuracy: 0.9545 - loss: 0.1209 - val_accuracy: 0.7740 - val_loss: 0.8880\n"
     ]
    },
    {
     "data": {
      "text/plain": [
       "<keras.src.callbacks.history.History at 0x2456091d8d0>"
      ]
     },
     "execution_count": 14,
     "metadata": {},
     "output_type": "execute_result"
    }
   ],
   "source": [
    "classifier.fit(x = training_set, validation_data = test_set, epochs = 25)"
   ]
  },
  {
   "cell_type": "code",
   "execution_count": null,
   "id": "a55f51a5",
   "metadata": {},
   "outputs": [],
   "source": [
    "**Evaluation"
   ]
  },
  {
   "cell_type": "code",
   "execution_count": null,
   "id": "5b208115",
   "metadata": {},
   "outputs": [],
   "source": [
    "#Making a single prediction"
   ]
  },
  {
   "cell_type": "code",
   "execution_count": 19,
   "id": "dac4e7f8",
   "metadata": {},
   "outputs": [],
   "source": [
    "import numpy as np\n",
    "from PIL import Image"
   ]
  },
  {
   "cell_type": "code",
   "execution_count": 21,
   "id": "1b7ddede",
   "metadata": {},
   "outputs": [
    {
     "name": "stdout",
     "output_type": "stream",
     "text": [
      "\u001b[1m1/1\u001b[0m \u001b[32m━━━━━━━━━━━━━━━━━━━━\u001b[0m\u001b[37m\u001b[0m \u001b[1m0s\u001b[0m 143ms/step\n",
      "Dog\n"
     ]
    }
   ],
   "source": [
    "#Load the data\n",
    "test_image = Image.open(\"dataset/single_prediction/cat_or_dog_1.jpg\")\n",
    "\n",
    "#Data Preprocessing\n",
    "test_image = test_image.resize((64,64))\n",
    "test_image = np.array(test_image)\n",
    "test_image = np.expand_dims (test_image,axis=0)\n",
    "\n",
    "# Prediction\n",
    "result= classifier.predict(test_image)\n",
    "\n",
    "# Evaluation\n",
    "if result [0][0] == 1:\n",
    "    print (\"Dog\" )\n",
    "else:\n",
    "    print (\"Cat\")"
   ]
  }
 ],
 "metadata": {
  "kernelspec": {
   "display_name": "Python 3 (ipykernel)",
   "language": "python",
   "name": "python3"
  },
  "language_info": {
   "codemirror_mode": {
    "name": "ipython",
    "version": 3
   },
   "file_extension": ".py",
   "mimetype": "text/x-python",
   "name": "python",
   "nbconvert_exporter": "python",
   "pygments_lexer": "ipython3",
   "version": "3.11.5"
  }
 },
 "nbformat": 4,
 "nbformat_minor": 5
}
